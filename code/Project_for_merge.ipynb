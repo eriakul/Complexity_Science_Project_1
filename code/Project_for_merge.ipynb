{
 "cells": [
  {
   "cell_type": "code",
   "execution_count": null,
   "metadata": {},
   "outputs": [],
   "source": [
    "# Download the data from Google Drive, and parse it to some Python lists\n",
    "import gdown\n",
    "import csv\n",
    "\n",
    "def load_data_from_drive():\n",
    "    \n",
    "    edges = []\n",
    "    gdown.download(\"https://drive.google.com/uc?id=1vBUOcQVh1EDY91xtW4fZjowbN8RFQ5Br\", \"interactions.txt\", quiet=True)\n",
    "    with open(\"interactions.txt\") as f:\n",
    "        c = csv.reader(f, delimiter=\"\\t\")\n",
    "        for row in c:\n",
    "            # TODO: Are weights minutes or what?\n",
    "            edges.append(tuple(int(i) for i in row))\n",
    "\n",
    "    people = []\n",
    "    jobs = []\n",
    "    gdown.download(\"https://drive.google.com/uc?id=10e8tFloUoUpV8UUf863blJBk8eTrSUih\", \"person_descriptions.txt\", quiet=True)\n",
    "    with open(\"person_descriptions.txt\") as f:\n",
    "        c = csv.reader(f, delimiter=\"\\t\")\n",
    "        for row in c:\n",
    "            print(row)\n",
    "            people.append(int(row[0]))\n",
    "            jobs.append(row[1])\n",
    "    \n",
    "    return edges, people, rows\n",
    "\n",
    "load_data_from_drive()"
   ]
  },
  {
   "cell_type": "code",
   "execution_count": 14,
   "metadata": {},
   "outputs": [],
   "source": [
    "import networkx as nx\n",
    "import matplotlib.pyplot as plt\n",
    "from matplotlib import animation, rc\n",
    "from copy import deepcopy\n",
    "from random import choice\n",
    "import pandas as pd\n",
    "import numpy as np"
   ]
  },
  {
   "cell_type": "code",
   "execution_count": 63,
   "metadata": {},
   "outputs": [],
   "source": [
    "class Graphs:\n",
    "    def adjacent_edges(self, nodes, halfk):\n",
    "        n = len(nodes)\n",
    "        for i, u in enumerate(nodes):\n",
    "            for j in range(i+1, i+halfk+1):\n",
    "                v = nodes[j % n]\n",
    "                yield u, v\n",
    "    def make_ring_lattice(self, n, k):\n",
    "        G = nx.Graph()\n",
    "        nodes = range(n)\n",
    "        G.add_nodes_from(nodes)\n",
    "        G.add_edges_from(self.adjacent_edges(nodes, k//2))\n",
    "        return G\n",
    "    def make_ws_graph(self, n, k, p):\n",
    "        def flip(p):\n",
    "            return np.random.random() < p\n",
    "        G = self.make_ring_lattice(n, k)\n",
    "        nodes = set(G)\n",
    "        for u, v in G.edges():\n",
    "            if flip(p):\n",
    "                choices = nodes - {u} - set(G[u])\n",
    "                new_v = np.random.choice(list(choices))\n",
    "                G.remove_edge(u, v)\n",
    "                G.add_edge(u, new_v)\n",
    "        return G    \n",
    "    "
   ]
  },
  {
   "cell_type": "code",
   "execution_count": 84,
   "metadata": {},
   "outputs": [],
   "source": [
    "class School(Graphs):\n",
    "    def __init__(self, n=20, k = 4, p = .5):\n",
    "        super()\n",
    "        self.G = self.make_ws_graph(n, k, p)\n",
    "        initialState= {\"state\": \"susceptible\"}\n",
    "        attributes = {i:deepcopy(initialState) for i in self.G.nodes}\n",
    "        nx.set_node_attributes(self.G, attributes)\n",
    "    \n",
    "    def expose(self, index):\n",
    "        self.G.node[index][\"state\"] = \"exposed\"\n",
    "        \n",
    "    def infect(self, index):\n",
    "        self.G.node[index][\"state\"] = \"infectious\"\n",
    "        \n",
    "    def recover(self, index):\n",
    "        self.G.node[index][\"state\"] = \"recovered\"\n",
    "        \n",
    "    def get_colors(self):\n",
    "        def color(state):\n",
    "            if state == \"susceptible\":\n",
    "                return \"green\"\n",
    "            elif state == \"exposed\":\n",
    "                return \"yellow\"\n",
    "            if state == \"infectious\":\n",
    "                return \"red\"\n",
    "            if state == \"recovered\":\n",
    "                return \"blue\"\n",
    "        states = list([data[\"state\"] for i, data in self.G.nodes(data=True)])\n",
    "        return list(map(color, states))\n",
    "    \n",
    "    def visualize(self):\n",
    "        nx.draw_networkx(self.G, \n",
    "                node_color=self.get_colors(), \n",
    "                node_size=500, \n",
    "                with_labels=True)\n",
    "        for node in self.G.nodes(data=True):\n",
    "            print(node)"
   ]
  },
  {
   "cell_type": "code",
   "execution_count": 88,
   "metadata": {},
   "outputs": [],
   "source": [
    "S = School()\n",
    "S.infect(0)"
   ]
  },
  {
   "cell_type": "code",
   "execution_count": 89,
   "metadata": {},
   "outputs": [
    {
     "name": "stdout",
     "output_type": "stream",
     "text": [
      "(0, {'state': 'infectious'})\n",
      "(1, {'state': 'susceptible'})\n",
      "(2, {'state': 'susceptible'})\n",
      "(3, {'state': 'susceptible'})\n",
      "(4, {'state': 'susceptible'})\n",
      "(5, {'state': 'susceptible'})\n",
      "(6, {'state': 'susceptible'})\n",
      "(7, {'state': 'susceptible'})\n",
      "(8, {'state': 'susceptible'})\n",
      "(9, {'state': 'susceptible'})\n",
      "(10, {'state': 'susceptible'})\n",
      "(11, {'state': 'susceptible'})\n",
      "(12, {'state': 'susceptible'})\n",
      "(13, {'state': 'susceptible'})\n",
      "(14, {'state': 'susceptible'})\n",
      "(15, {'state': 'susceptible'})\n",
      "(16, {'state': 'susceptible'})\n",
      "(17, {'state': 'susceptible'})\n",
      "(18, {'state': 'susceptible'})\n",
      "(19, {'state': 'susceptible'})\n"
     ]
    },
    {
     "data": {
      "image/png": "[encoded data removed]",
      "text/plain": [
       "<Figure size 432x288 with 1 Axes>"
      ]
     },
     "metadata": {},
     "output_type": "display_data"
    }
   ],
   "source": [
    "S.visualize()"
   ]
  },
  {
   "cell_type": "code",
   "execution_count": 87,
   "metadata": {},
   "outputs": [
    {
     "data": {
      "text/plain": [
       "['green',\n",
       " 'green',\n",
       " 'green',\n",
       " 'green',\n",
       " 'green',\n",
       " 'green',\n",
       " 'green',\n",
       " 'green',\n",
       " 'green',\n",
       " 'green',\n",
       " 'green',\n",
       " 'green',\n",
       " 'green',\n",
       " 'green',\n",
       " 'green',\n",
       " 'green',\n",
       " 'green',\n",
       " 'green',\n",
       " 'green',\n",
       " 'green']"
      ]
     },
     "execution_count": 87,
     "metadata": {},
     "output_type": "execute_result"
    }
   ],
   "source": []
  },
  {
   "cell_type": "code",
   "execution_count": null,
   "metadata": {},
   "outputs": [],
   "source": []
  },
  {
   "cell_type": "code",
   "execution_count": null,
   "metadata": {},
   "outputs": [],
   "source": []
  }
 ],
 "metadata": {
  "kernelspec": {
   "display_name": "Python 3",
   "language": "python",
   "name": "python3"
  },
  "language_info": {
   "codemirror_mode": {
    "name": "ipython",
    "version": 3
   },
   "file_extension": ".py",
   "mimetype": "text/x-python",
   "name": "python",
   "nbconvert_exporter": "python",
   "pygments_lexer": "ipython3",
   "version": "3.6.8"
  }
 },
 "nbformat": 4,
 "nbformat_minor": 2
}
