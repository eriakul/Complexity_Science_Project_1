{
  "nbformat": 4,
  "nbformat_minor": 0,
  "metadata": {
    "colab": {
      "name": "Project (1)",
      "provenance": [],
      "collapsed_sections": []
    },
    "kernelspec": {
      "name": "python3",
      "display_name": "Python 3"
    }
  },
  "cells": [
    {
      "cell_type": "code",
      "metadata": {
        "id": "EMlNVnVxzwGT",
        "colab_type": "code",
        "colab": {}
      },
      "source": [
        "# Download the data from Google Drive, and parse it to some Python lists\n",
        "import gdown\n",
        "import csv\n",
        "\n",
        "def load_data_from_drive():\n",
        "    \n",
        "    edges = []\n",
        "    gdown.download(\"https://drive.google.com/uc?id=1vBUOcQVh1EDY91xtW4fZjowbN8RFQ5Br\", \"interactions.txt\", quiet=True)\n",
        "    with open(\"interactions.txt\") as f:\n",
        "        c = csv.reader(f, delimiter=\"\\t\")\n",
        "        for row in c:\n",
        "            # TODO: Are weights minutes or what?\n",
        "            edges.append(tuple(int(i) for i in row))\n",
        "\n",
        "    people = []\n",
        "    jobs = []\n",
        "    gdown.download(\"https://drive.google.com/uc?id=10e8tFloUoUpV8UUf863blJBk8eTrSUih\", \"person_descriptions.txt\", quiet=True)\n",
        "    with open(\"person_descriptions.txt\") as f:\n",
        "        c = csv.reader(f, delimiter=\"\\t\")\n",
        "        for row in c:\n",
        "            people.append(int(row[0]))\n",
        "            jobs.append(row[1])\n",
        "    \n",
        "    return edges, people, jobs\n"
      ],
      "execution_count": 0,
      "outputs": []
    },
    {
      "cell_type": "code",
      "metadata": {
        "id": "3wGAo7Vnz45i",
        "colab_type": "code",
        "colab": {}
      },
      "source": [
        "class Graphs:\n",
        "    def adjacent_edges(self, nodes, halfk):\n",
        "        n = len(nodes)\n",
        "        for i, u in enumerate(nodes):\n",
        "            for j in range(i+1, i+halfk+1):\n",
        "                v = nodes[j % n]\n",
        "                yield (u, v, 5.0)\n",
        "    def make_ring_lattice(self, n, k):\n",
        "        G = nx.Graph()\n",
        "        nodes = range(n)\n",
        "        G.add_nodes_from(nodes)\n",
        "        edges = list(self.adjacent_edges(nodes, k//2))\n",
        "        G.add_weighted_edges_from(edges)\n",
        "        return G\n",
        "    def make_ws_graph(self, n, k, p):\n",
        "        def flip(p):\n",
        "            return np.random.random() < p\n",
        "        G = self.make_ring_lattice(n, k)\n",
        "        nodes = set(G)\n",
        "        for u, v in G.edges():\n",
        "            if flip(p):\n",
        "                choices = nodes - {u} - set(G[u])\n",
        "                new_v = np.random.choice(list(choices))\n",
        "                G.remove_edge(u, v)\n",
        "                G.add_edge(u, new_v, weight = 5.0)\n",
        "        return G    \n",
        "    "
      ],
      "execution_count": 0,
      "outputs": []
    },
    {
      "cell_type": "code",
      "metadata": {
        "id": "0FRH8C6W0A_o",
        "colab_type": "code",
        "colab": {}
      },
      "source": [
        "class Graphs:\n",
        "    def adjacent_edges(self, nodes, halfk):\n",
        "        n = len(nodes)\n",
        "        for i, u in enumerate(nodes):\n",
        "            for j in range(i+1, i+halfk+1):\n",
        "                v = nodes[j % n]\n",
        "                yield u, v\n",
        "    def make_ring_lattice(self, n, k):\n",
        "        G = nx.Graph()\n",
        "        nodes = range(n)\n",
        "        G.add_nodes_from(nodes)\n",
        "        G.add_edges_from(self.adjacent_edges(nodes, k//2))\n",
        "        return G\n",
        "    def make_ws_graph(self, n, k, p):\n",
        "        def flip(p):\n",
        "            return np.random.random() < p\n",
        "        G = self.make_ring_lattice(n, k)\n",
        "        nodes = set(G)\n",
        "        for u, v in G.edges():\n",
        "            if flip(p):\n",
        "                choices = nodes - {u} - set(G[u])\n",
        "                new_v = np.random.choice(list(choices))\n",
        "                G.remove_edge(u, v)\n",
        "                G.add_edge(u, new_v)\n",
        "        return G    "
      ],
      "execution_count": 0,
      "outputs": []
    },
    {
      "cell_type": "code",
      "metadata": {
        "id": "nDPFTpTx0G27",
        "colab_type": "code",
        "colab": {}
      },
      "source": [
        "class School(Graphs):\n",
        "    def __init__(self, n=20, k = 4, p = .5):\n",
        "        super()\n",
        "        self.G = self.make_ws_graph(n, k, p)\n",
        "        initialState= {\"state\": \"susceptible\"}\n",
        "        attributes = {i:deepcopy(initialState) for i in self.G.nodes}\n",
        "        nx.set_node_attributes(self.G, attributes)\n",
        "        \n",
        "    def get_neighbors_weights(self, node):\n",
        "        arr = []\n",
        "        for n in self.G.neighbors(node):\n",
        "            arr.append( (n, self.G.edges[(node, n)][\"weight\"]) )\n",
        "        return arr\n",
        "    \n",
        "    def expose(self, index):\n",
        "        self.G.node[index][\"state\"] = \"exposed\"\n",
        "        \n",
        "    def infect(self, index):\n",
        "        self.G.node[index][\"state\"] = \"infectious\"\n",
        "        \n",
        "    def recover(self, index):\n",
        "        self.G.node[index][\"state\"] = \"recovered\"\n",
        "        \n",
        "    def get_colors(self):\n",
        "        def color(state):\n",
        "            if state == \"susceptible\":\n",
        "                return \"green\"\n",
        "            elif state == \"exposed\":\n",
        "                return \"yellow\"\n",
        "            if state == \"infectious\":\n",
        "                return \"red\"\n",
        "            if state == \"recovered\":\n",
        "                return \"blue\"\n",
        "        states = list([data[\"state\"] for i, data in self.G.nodes(data=True)])\n",
        "        return list(map(color, states))\n",
        "    \n",
        "    def get_global_state(self):\n",
        "        globalState = {}\n",
        "        for index, attributes in self.G.nodes(data=True):\n",
        "            state = attributes[\"state\"]\n",
        "            globalState[state] = globalState.get(state, 0) + 1\n",
        "\n",
        "        return globalState\n",
        "    \n",
        "    def visualize(self):\n",
        "        nx.draw_networkx(self.G, \n",
        "                node_color=self.get_colors(), \n",
        "                node_size=500, \n",
        "                with_labels=True)\n",
        "        print(self.get_global_state())\n",
        "        "
      ],
      "execution_count": 0,
      "outputs": []
    },
    {
      "cell_type": "code",
      "metadata": {
        "id": "DMA079mI0K3o",
        "colab_type": "code",
        "colab": {}
      },
      "source": [
        "S = School()\n",
        "S.infect(0)"
      ],
      "execution_count": 0,
      "outputs": []
    },
    {
      "cell_type": "code",
      "metadata": {
        "id": "ypPMZLWt0caZ",
        "colab_type": "code",
        "colab": {}
      },
      "source": [
        "S.visualize()"
      ],
      "execution_count": 0,
      "outputs": []
    }
  ]
}